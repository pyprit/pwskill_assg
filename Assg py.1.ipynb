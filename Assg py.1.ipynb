{
 "cells": [
  {
   "cell_type": "code",
   "execution_count": 1,
   "id": "53f6554d-407d-49c9-900d-4e119c307588",
   "metadata": {},
   "outputs": [],
   "source": [
    "---------------------------------------------------------------------------------------------------------------\n",
    "# Name : Prit kumar\n",
    "# Course : Data science\n",
    "# Assg  : 1st\n",
    "---------------------------------------------------------------------------------------------------------------\n",
    "\n",
    "#Q 1"
   ]
  },
  {
   "cell_type": "code",
   "execution_count": 2,
   "id": "18eea385-9ba8-4e49-9065-1254edf37565",
   "metadata": {},
   "outputs": [
    {
     "name": "stdout",
     "output_type": "stream",
     "text": [
      "swaped value of x is: 20\n",
      "swaped value of y is: 10\n"
     ]
    }
   ],
   "source": [
    "x = 10 \n",
    "y = 20\n",
    "x = x+y # updated value of x is 30\n",
    "y = x-y # updated value of y is 10\n",
    "x = x-y # updated value of x is 20\n",
    "print(\"swaped value of x is:\" ,x)\n",
    "print(\"swaped value of y is:\" ,y)"
   ]
  },
  {
   "cell_type": "code",
   "execution_count": 3,
   "id": "d481c78c-828b-410c-8a81-98b045f4639b",
   "metadata": {},
   "outputs": [],
   "source": [
    "#Q2"
   ]
  },
  {
   "cell_type": "code",
   "execution_count": 4,
   "id": "0c0d005f-25b3-498c-97f2-bb0fbf8a57ee",
   "metadata": {},
   "outputs": [
    {
     "name": "stdin",
     "output_type": "stream",
     "text": [
      "Enter the length of rectangle: 10\n",
      "Enter the Width of rectangle: 5\n"
     ]
    },
    {
     "name": "stdout",
     "output_type": "stream",
     "text": [
      "Area of rectangle  is  10 * 5 = 50.0  unit\n"
     ]
    }
   ],
   "source": [
    "l= input(\"Enter the length of rectangle:\")\n",
    "b = input(\"Enter the Width of rectangle:\")\n",
    "Area = float(l)*float(b)\n",
    "print(\"Area of rectangle  is \",l,\"*\" ,b,\"=\",Area,\" unit\")"
   ]
  },
  {
   "cell_type": "code",
   "execution_count": 5,
   "id": "e94e839c-6c7f-4fd4-bfee-a32e4751dac7",
   "metadata": {},
   "outputs": [],
   "source": [
    "#Q 3"
   ]
  },
  {
   "cell_type": "code",
   "execution_count": 6,
   "id": "58dc1321-38af-4bf8-afca-050962790259",
   "metadata": {},
   "outputs": [
    {
     "name": "stdin",
     "output_type": "stream",
     "text": [
      "Entear temperature in celsius: 0\n"
     ]
    },
    {
     "name": "stdout",
     "output_type": "stream",
     "text": [
      "For  0 celcius in fahrenheit is: 32.0\n"
     ]
    }
   ],
   "source": [
    "c = input(\"Entear temperature in celsius:\")\n",
    "f = float(c)*(9/5)+32\n",
    "print(\"For \",c,\"celcius in fahrenheit is:\",f)"
   ]
  },
  {
   "cell_type": "code",
   "execution_count": 7,
   "id": "340c55e2-c8c0-484e-a9c7-b113e5ef03e6",
   "metadata": {},
   "outputs": [],
   "source": [
    "#Q 4"
   ]
  },
  {
   "cell_type": "code",
   "execution_count": 8,
   "id": "75576be0-c561-460b-90cd-42cd392ffbbb",
   "metadata": {},
   "outputs": [
    {
     "name": "stdin",
     "output_type": "stream",
     "text": [
      "Enter any sentance: This is my first python code\n"
     ]
    },
    {
     "name": "stdout",
     "output_type": "stream",
     "text": [
      "Length of the sentence is: 28\n"
     ]
    }
   ],
   "source": [
    "my_string = input(\"Enter any sentance:\")\n",
    "strlen=len(my_string)\n",
    "print(\"Length of the sentence is:\",strlen)"
   ]
  },
  {
   "cell_type": "code",
   "execution_count": 9,
   "id": "d86122d3-d742-4028-ab2c-bbf44767948d",
   "metadata": {},
   "outputs": [],
   "source": [
    "#Q 5"
   ]
  },
  {
   "cell_type": "code",
   "execution_count": 10,
   "id": "fbe0012a-0c8d-49ba-9fc0-e90e87e20811",
   "metadata": {},
   "outputs": [
    {
     "name": "stdin",
     "output_type": "stream",
     "text": [
      "Enter any sentence: My name is PRIT KUMAR\n"
     ]
    },
    {
     "name": "stdout",
     "output_type": "stream",
     "text": [
      "Number of vowels: 6\n"
     ]
    }
   ],
   "source": [
    "# Python code to count vowel in any sentence\n",
    "\n",
    "string = input(\"Enter any sentence:\")\n",
    "vowel = 0\n",
    "for i in string :\n",
    "    if (i == 'a' or i=='e' or i == 'i' or i == 'o' or i == 'u' or i == 'A' or i == 'E' or i == 'I' or i == 'O' or i == 'U'):\n",
    "          vowel = vowel+1\n",
    "  \n",
    "    \n",
    "print(\"Number of vowels:\" ,vowel)"
   ]
  },
  {
   "cell_type": "code",
   "execution_count": 11,
   "id": "bb9e98ac-3c36-4b08-835a-92c34cad43d5",
   "metadata": {},
   "outputs": [],
   "source": [
    "#Q 6"
   ]
  },
  {
   "cell_type": "code",
   "execution_count": 12,
   "id": "a9610b17-8c2b-4aba-9ccc-9d8319c7b6a5",
   "metadata": {},
   "outputs": [
    {
     "name": "stdout",
     "output_type": "stream",
     "text": [
      "Reversed string is: edoc nothyp tsrif ym si sihT\n"
     ]
    }
   ],
   "source": [
    "my_string = \"This is my first pyhton code\"\n",
    "my_string=my_string[::-1]\n",
    "print(\"Reversed string is:\", my_string)"
   ]
  },
  {
   "cell_type": "code",
   "execution_count": 13,
   "id": "8f948c76-e064-4983-a197-92caa2705f91",
   "metadata": {},
   "outputs": [],
   "source": [
    "#Q 7"
   ]
  },
  {
   "cell_type": "code",
   "execution_count": 14,
   "id": "be782fba-10ec-4c58-bb0b-b8da5b1cef73",
   "metadata": {},
   "outputs": [
    {
     "name": "stdin",
     "output_type": "stream",
     "text": [
      "Enter any value: 121\n"
     ]
    },
    {
     "name": "stdout",
     "output_type": "stream",
     "text": [
      "yes it is palindrome\n"
     ]
    }
   ],
   "source": [
    "my_string = input(\"Enter any value:\")\n",
    "\n",
    "revers = my_string[::-1]\n",
    "\n",
    "if (my_string==revers):\n",
    "     print(\"yes it is palindrome\")\n",
    "else:\n",
    "     print(\"No it is not palindrome\")"
   ]
  },
  {
   "cell_type": "code",
   "execution_count": 15,
   "id": "4bcb8d71-950f-45cd-b930-0c4278045f4c",
   "metadata": {},
   "outputs": [],
   "source": [
    "#Q 8"
   ]
  },
  {
   "cell_type": "code",
   "execution_count": 16,
   "id": "228e2501-f95c-4493-b6d5-ac00c32cd0bf",
   "metadata": {},
   "outputs": [
    {
     "name": "stdout",
     "output_type": "stream",
     "text": [
      "Thisismyfirstpythoncode\n"
     ]
    }
   ],
   "source": [
    "my_string = \"This is my first python code\"\n",
    "modified_string= my_string.replace(\" \",\"\")\n",
    "print(modified_string)"
   ]
  },
  {
   "cell_type": "code",
   "execution_count": null,
   "id": "85d4c179-768d-4a5b-9341-b4e7ea21da0d",
   "metadata": {},
   "outputs": [],
   "source": []
  }
 ],
 "metadata": {
  "kernelspec": {
   "display_name": "Python 3 (ipykernel)",
   "language": "python",
   "name": "python3"
  },
  "language_info": {
   "codemirror_mode": {
    "name": "ipython",
    "version": 3
   },
   "file_extension": ".py",
   "mimetype": "text/x-python",
   "name": "python",
   "nbconvert_exporter": "python",
   "pygments_lexer": "ipython3",
   "version": "3.10.8"
  }
 },
 "nbformat": 4,
 "nbformat_minor": 5
}
